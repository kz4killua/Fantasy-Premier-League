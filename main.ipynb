{
 "cells": [
  {
   "cell_type": "code",
   "execution_count": null,
   "metadata": {},
   "outputs": [],
   "source": [
    "import os\n",
    "\n",
    "import requests\n",
    "import pandas as pd\n",
    "import numpy as np\n",
    "from dotenv import load_dotenv\n",
    "\n",
    "from datautil.pipeline import load_players_and_teams, insert_fixture_records\n",
    "from datautil.updating.pipeline import update_local_data\n",
    "from datautil.utilities import get_current_season, get_next_gameweek, get_previous_seasons\n",
    "from api.fpl import get_fixture_data, get_bootstrap_data\n",
    "from features.features import engineer_features\n",
    "from predictions import make_predictions, group_predictions_by_gameweek, weight_gameweek_predictions_by_availability\n",
    "from predictions import PositionSplitEstimator\n",
    "from simulation.utilities import get_player_name\n",
    "from optimize import optimize_squad\n",
    "from optimize.utilities import suggest_squad_roles"
   ]
  },
  {
   "cell_type": "code",
   "execution_count": null,
   "metadata": {},
   "outputs": [],
   "source": [
    "load_dotenv()"
   ]
  },
  {
   "cell_type": "code",
   "execution_count": null,
   "metadata": {},
   "outputs": [],
   "source": [
    "pd.set_option('display.max_columns', None)"
   ]
  },
  {
   "cell_type": "code",
   "execution_count": null,
   "metadata": {},
   "outputs": [],
   "source": [
    "def authenticate() -> requests.Session:\n",
    "    \"\"\"Logs into FPL and returns an authenticated session.\"\"\"\n",
    "\n",
    "    email = os.getenv('FPL_EMAIL')\n",
    "    password = os.getenv('FPL_PASSWORD')\n",
    "    cookie = os.getenv('FPL_COOKIE')\n",
    "\n",
    "    session = requests.Session()\n",
    "\n",
    "    url = 'https://users.premierleague.com/accounts/login/'\n",
    "    headers = {\n",
    "        'User-Agent': 'Dalvik/2.1.0 (Linux; U; Android 5.1; PRO 5 Build/LMY47D)',\n",
    "        'Cookie': cookie\n",
    "    }\n",
    "    payload = {\n",
    "        'login': email,\n",
    "        'password': password,\n",
    "        'app': 'plfpl-web',\n",
    "        'redirect_uri': 'https://fantasy.premierleague.com/a/login',\n",
    "    }\n",
    "\n",
    "    response = session.post(url, data=payload, headers=headers)\n",
    "    if not response.ok:\n",
    "        raise Exception(f'Failed to log in! Reason: {response.reason}')\n",
    "    \n",
    "    return session\n",
    "\n",
    "\n",
    "def get_my_team_data() -> dict:\n",
    "    \"\"\"Fetches current squad selection from FPL.\"\"\"\n",
    "\n",
    "    session = authenticate()\n",
    "\n",
    "    manager_data = session.get('https://fantasy.premierleague.com/api/me/')\n",
    "    manager_id = manager_data.json()['player']['entry']\n",
    "\n",
    "    team_data = session.get(f'https://fantasy.premierleague.com/api/my-team/{manager_id}/')\n",
    "    team_data = team_data.json()\n",
    "\n",
    "    return team_data\n",
    "\n",
    "\n",
    "def print_transfer_summary(\n",
    "        initial_squad: set, best_squad: set, best_squad_roles: dict, \n",
    "        bootstrap_elements: pd.DataFrame, next_gameweek_predictions: pd.Series\n",
    "    ):\n",
    "    \"\"\"Print a user-friendly summary of transfers from an initial squad.\"\"\"\n",
    "\n",
    "    print(\"Starting XI\")\n",
    "    for element in best_squad_roles['starting_xi']:\n",
    "        name = get_player_name(element, bootstrap_elements)\n",
    "        predicted_points = next_gameweek_predictions[element]\n",
    "        print(f\"{name} ({predicted_points:.2f})\")\n",
    "\n",
    "    print(\"\\nReserves\")\n",
    "    for element in [best_squad_roles['reserve_gkp'], *best_squad_roles['reserve_out']]:\n",
    "        name = get_player_name(element, bootstrap_elements)\n",
    "        predicted_points = next_gameweek_predictions[element]\n",
    "        print(f\"{name} ({predicted_points:.2f})\")\n",
    "\n",
    "    captain = get_player_name(best_squad_roles['captain'], bootstrap_elements)\n",
    "    vice_captain = get_player_name(best_squad_roles['vice_captain'], bootstrap_elements)\n",
    "    print(f\"\\nCaptain: {captain}\")\n",
    "    print(f\"Vice Captain: {vice_captain}\")\n",
    "    \n",
    "    print(\"\\nTransfers in\")\n",
    "    for element in best_squad - initial_squad:\n",
    "        name = get_player_name(element, bootstrap_elements)\n",
    "        predicted_points = next_gameweek_predictions[element]\n",
    "        print(f\"{name} ({predicted_points:.2f})\")\n",
    "\n",
    "    print(\"\\nTransfers out\")\n",
    "    for element in initial_squad - best_squad:\n",
    "        name = get_player_name(element, bootstrap_elements)\n",
    "        predicted_points = next_gameweek_predictions[element]\n",
    "        print(f\"{name} ({predicted_points:.2f})\")"
   ]
  },
  {
   "cell_type": "code",
   "execution_count": null,
   "metadata": {},
   "outputs": [],
   "source": [
    "# Load API data\n",
    "fixtures = pd.DataFrame(get_fixture_data())\n",
    "fixtures['kickoff_time'] = pd.to_datetime(fixtures['kickoff_time'])\n",
    "bootstrap = get_bootstrap_data()\n",
    "bootstrap_events = pd.DataFrame(bootstrap['events'])\n",
    "bootstrap_events['deadline_time'] = pd.to_datetime(bootstrap_events['deadline_time'])\n",
    "bootstrap_elements = pd.DataFrame(bootstrap['elements'])\n",
    "bootstrap_elements.set_index('id', inplace=True, drop=False)\n",
    "bootstrap_elements['chance_of_playing_next_round'].fillna(100, inplace=True)\n",
    "bootstrap_teams = pd.DataFrame(bootstrap['teams'])"
   ]
  },
  {
   "cell_type": "code",
   "execution_count": null,
   "metadata": {},
   "outputs": [],
   "source": [
    "current_season = get_current_season(bootstrap_events)\n",
    "seasons = get_previous_seasons(current_season)\n",
    "next_gameweek = get_next_gameweek(bootstrap_events)"
   ]
  },
  {
   "cell_type": "code",
   "execution_count": null,
   "metadata": {},
   "outputs": [],
   "source": [
    "update_local_data(current_season, bootstrap_elements, bootstrap_events, bootstrap_teams)\n",
    "local_players, local_teams = load_players_and_teams(seasons)\n",
    "local_players, local_teams = insert_fixture_records(current_season, next_gameweek, fixtures, local_players, local_teams, bootstrap_elements, bootstrap_teams)"
   ]
  },
  {
   "cell_type": "code",
   "execution_count": null,
   "metadata": {},
   "outputs": [],
   "source": [
    "features, columns = engineer_features(local_players, local_teams)\n",
    "# Keep only features for the current season\n",
    "features = features[(features['season'] == current_season)]"
   ]
  },
  {
   "cell_type": "code",
   "execution_count": null,
   "metadata": {},
   "outputs": [],
   "source": [
    "model_path = f\"models/2024-25/model-all.pkl\"\n",
    "columns_path = f\"models/2024-25/columns.json\"\n",
    "predictions = make_predictions(features, model_path, columns_path)\n",
    "gameweek_predictions = group_predictions_by_gameweek(predictions)\n",
    "gameweek_predictions = weight_gameweek_predictions_by_availability(gameweek_predictions, bootstrap_elements, next_gameweek)"
   ]
  },
  {
   "cell_type": "code",
   "execution_count": null,
   "metadata": {},
   "outputs": [],
   "source": [
    "# Load the FPL team information\n",
    "my_team = get_my_team_data()\n",
    "initial_picks = pd.DataFrame(my_team['picks'])\n",
    "initial_budget_remaining = my_team['transfers']['bank']\n",
    "initial_squad = set(initial_picks['element'])\n",
    "selling_prices = initial_picks.set_index('element')['selling_price']\n",
    "transfer_limit = my_team['transfers']['limit']\n",
    "transfers_made = my_team['transfers']['made']\n",
    "free_transfers = float('inf') if transfer_limit is None else (transfer_limit - transfers_made)"
   ]
  },
  {
   "cell_type": "code",
   "execution_count": null,
   "metadata": {},
   "outputs": [],
   "source": [
    "wildcard_gameweeks = [14, 25]\n",
    "now_costs = bootstrap_elements['now_cost']\n",
    "positions = bootstrap_elements['element_type']\n",
    "next_gameweek_predictions = gameweek_predictions.loc[:, next_gameweek]\n",
    "\n",
    "best_squad = optimize_squad(\n",
    "    current_season, initial_squad, initial_budget_remaining, \n",
    "    next_gameweek, wildcard_gameweeks, \n",
    "    now_costs, selling_prices, \n",
    "    bootstrap_elements, gameweek_predictions\n",
    ")\n",
    "best_squad_roles = suggest_squad_roles(\n",
    "    best_squad, positions.to_dict(), \n",
    "    next_gameweek_predictions.to_dict()\n",
    ")"
   ]
  },
  {
   "cell_type": "code",
   "execution_count": null,
   "metadata": {},
   "outputs": [],
   "source": [
    "print_transfer_summary(\n",
    "    initial_squad, best_squad, best_squad_roles, \n",
    "    bootstrap_elements, next_gameweek_predictions\n",
    ")"
   ]
  }
 ],
 "metadata": {
  "kernelspec": {
   "display_name": "venv",
   "language": "python",
   "name": "python3"
  },
  "language_info": {
   "codemirror_mode": {
    "name": "ipython",
    "version": 3
   },
   "file_extension": ".py",
   "mimetype": "text/x-python",
   "name": "python",
   "nbconvert_exporter": "python",
   "pygments_lexer": "ipython3",
   "version": "3.11.1"
  }
 },
 "nbformat": 4,
 "nbformat_minor": 2
}
